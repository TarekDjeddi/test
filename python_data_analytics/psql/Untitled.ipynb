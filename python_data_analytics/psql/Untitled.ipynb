{
 "cells": [
  {
   "cell_type": "code",
   "execution_count": 1,
   "metadata": {},
   "outputs": [],
   "source": [
    "import pandas as pd"
   ]
  },
  {
   "cell_type": "code",
   "execution_count": 2,
   "metadata": {},
   "outputs": [
    {
     "name": "stdout",
     "output_type": "stream",
     "text": [
      "Collecting psycopg2-binary\n",
      "  Downloading psycopg2_binary-2.9.3-cp38-cp38-manylinux_2_17_x86_64.manylinux2014_x86_64.whl (3.0 MB)\n",
      "\u001b[K     |████████████████████████████████| 3.0 MB 6.0 MB/s eta 0:00:01��███████████████  | 2.8 MB 6.0 MB/s eta 0:00:01\n",
      "\u001b[?25hInstalling collected packages: psycopg2-binary\n",
      "Successfully installed psycopg2-binary-2.9.3\n"
     ]
    }
   ],
   "source": [
    "! pip install psycopg2-binary\n"
   ]
  },
  {
   "cell_type": "code",
   "execution_count": 3,
   "metadata": {},
   "outputs": [
    {
     "name": "stdout",
     "output_type": "stream",
     "text": [
      "Collecting snowflake-connector-python\n",
      "  Downloading snowflake_connector_python-2.7.8-cp38-cp38-manylinux_2_12_x86_64.manylinux2010_x86_64.manylinux_2_17_x86_64.manylinux2014_x86_64.whl (16.5 MB)\n",
      "\u001b[K     |████████████████████████████████| 16.5 MB 6.2 MB/s eta 0:00:01                        | 1.4 MB 6.2 MB/s eta 0:00:03|███████                         | 3.7 MB 6.2 MB/s eta 0:00:03████▌                | 8.0 MB 6.2 MB/s eta 0:00:02��██████████████████▋            | 10.1 MB 6.2 MB/s eta 0:00:026.2 MB/s eta 0:00:01�█████████████████████▌   | 14.7 MB 6.2 MB/s eta 0:00:01\n",
      "\u001b[?25hCollecting asn1crypto<2.0.0,>0.24.0\n",
      "  Downloading asn1crypto-1.5.1-py2.py3-none-any.whl (105 kB)\n",
      "\u001b[K     |████████████████████████████████| 105 kB 49.4 MB/s eta 0:00:01\n",
      "\u001b[?25hRequirement already satisfied: pytz in /opt/conda/lib/python3.8/site-packages (from snowflake-connector-python) (2020.1)\n",
      "Collecting pycryptodomex!=3.5.0,<4.0.0,>=3.2\n",
      "  Downloading pycryptodomex-3.14.1-cp35-abi3-manylinux2010_x86_64.whl (2.0 MB)\n",
      "\u001b[K     |████████████████████████████████| 2.0 MB 54.6 MB/s eta 0:00:01  | 481 kB 54.6 MB/s eta 0:00:01\n",
      "\u001b[?25hRequirement already satisfied: requests<3.0.0 in /opt/conda/lib/python3.8/site-packages (from snowflake-connector-python) (2.24.0)\n",
      "Requirement already satisfied: pyOpenSSL<23.0.0,>=16.2.0 in /opt/conda/lib/python3.8/site-packages (from snowflake-connector-python) (19.1.0)\n",
      "Requirement already satisfied: pyjwt<3.0.0 in /opt/conda/lib/python3.8/site-packages (from snowflake-connector-python) (1.7.1)\n",
      "Requirement already satisfied: cffi<2.0.0,>=1.9 in /opt/conda/lib/python3.8/site-packages (from snowflake-connector-python) (1.14.3)\n",
      "Requirement already satisfied: setuptools>34.0.0 in /opt/conda/lib/python3.8/site-packages (from snowflake-connector-python) (49.6.0.post20200917)\n",
      "Collecting oscrypto<2.0.0\n",
      "  Downloading oscrypto-1.3.0-py2.py3-none-any.whl (194 kB)\n",
      "\u001b[K     |████████████████████████████████| 194 kB 44.3 MB/s eta 0:00:01\n",
      "\u001b[?25hRequirement already satisfied: cryptography<37.0.0,>=3.1.0 in /opt/conda/lib/python3.8/site-packages (from snowflake-connector-python) (3.1.1)\n",
      "Collecting charset-normalizer~=2.0.0\n",
      "  Downloading charset_normalizer-2.0.12-py3-none-any.whl (39 kB)\n",
      "Requirement already satisfied: certifi>=2017.4.17 in /opt/conda/lib/python3.8/site-packages (from snowflake-connector-python) (2020.6.20)\n",
      "Requirement already satisfied: idna<4,>=2.5 in /opt/conda/lib/python3.8/site-packages (from snowflake-connector-python) (2.10)\n",
      "Requirement already satisfied: urllib3!=1.25.0,!=1.25.1,<1.26,>=1.21.1 in /opt/conda/lib/python3.8/site-packages (from requests<3.0.0->snowflake-connector-python) (1.25.10)\n",
      "Requirement already satisfied: chardet<4,>=3.0.2 in /opt/conda/lib/python3.8/site-packages (from requests<3.0.0->snowflake-connector-python) (3.0.4)\n",
      "Requirement already satisfied: six>=1.5.2 in /opt/conda/lib/python3.8/site-packages (from pyOpenSSL<23.0.0,>=16.2.0->snowflake-connector-python) (1.15.0)\n",
      "Requirement already satisfied: pycparser in /opt/conda/lib/python3.8/site-packages (from cffi<2.0.0,>=1.9->snowflake-connector-python) (2.20)\n",
      "Installing collected packages: asn1crypto, pycryptodomex, oscrypto, charset-normalizer, snowflake-connector-python\n",
      "Successfully installed asn1crypto-1.5.1 charset-normalizer-2.0.12 oscrypto-1.3.0 pycryptodomex-3.14.1 snowflake-connector-python-2.7.8\n"
     ]
    }
   ],
   "source": [
    "! pip install snowflake-connector-python\n"
   ]
  },
  {
   "cell_type": "code",
   "execution_count": 4,
   "metadata": {},
   "outputs": [
    {
     "name": "stdout",
     "output_type": "stream",
     "text": [
      "Collecting mysql-connector-python\n",
      "  Downloading mysql_connector_python-8.0.29-cp38-cp38-manylinux1_x86_64.whl (25.2 MB)\n",
      "\u001b[K     |████████████████████████████████| 25.2 MB 5.4 MB/s eta 0:00:01    |█▎                              | 993 kB 5.4 MB/s eta 0:00:05��██                            | 3.1 MB 5.4 MB/s eta 0:00:05   |█████████▍                      | 7.4 MB 5.4 MB/s eta 0:00:04            | 10.2 MB 5.4 MB/s eta 0:00:03��██████▎               | 12.9 MB 5.4 MB/s eta 0:00:03███████████████████▋            | 15.4 MB 5.4 MB/s eta 0:00:02�███████▎       | 19.1 MB 5.4 MB/s eta 0:00:02��███▌    | 21.7 MB 5.4 MB/s eta 0:00:01 eta 0:00:01\n",
      "\u001b[?25hRequirement already satisfied: protobuf>=3.0.0 in /opt/conda/lib/python3.8/site-packages (from mysql-connector-python) (3.12.4)\n",
      "Requirement already satisfied: six>=1.9 in /opt/conda/lib/python3.8/site-packages (from protobuf>=3.0.0->mysql-connector-python) (1.15.0)\n",
      "Requirement already satisfied: setuptools in /opt/conda/lib/python3.8/site-packages (from protobuf>=3.0.0->mysql-connector-python) (49.6.0.post20200917)\n",
      "Installing collected packages: mysql-connector-python\n",
      "Successfully installed mysql-connector-python-8.0.29\n"
     ]
    }
   ],
   "source": [
    "! pip install mysql-connector-python"
   ]
  },
  {
   "cell_type": "code",
   "execution_count": null,
   "metadata": {},
   "outputs": [],
   "source": []
  }
 ],
 "metadata": {
  "kernelspec": {
   "display_name": "Python 3",
   "language": "python",
   "name": "python3"
  },
  "language_info": {
   "codemirror_mode": {
    "name": "ipython",
    "version": 3
   },
   "file_extension": ".py",
   "mimetype": "text/x-python",
   "name": "python",
   "nbconvert_exporter": "python",
   "pygments_lexer": "ipython3",
   "version": "3.8.5"
  }
 },
 "nbformat": 4,
 "nbformat_minor": 4
}
