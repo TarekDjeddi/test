﻿{
  "metadata": {
    "name": "Jarvis Hive Project",
    "kernelspec": {
      "language": "scala",
      "name": "spark2-scala"
    },
    "language_info": {
      "codemirror_mode": "text/x-scala",
      "file_extension": ".scala",
      "mimetype": "text/x-scala",
      "name": "scala",
      "pygments_lexer": "scala"
    }
  },
  "nbformat": 4,
  "nbformat_minor": 2,
  "cells": [
    {
      "cell_type": "markdown",
      "metadata": {},
      "source": "# Query GS data\n- Create a hive table `wdi_gs` against the gs wdi_2016 data.\n- Count number of rows from the wdi_gs table"
    },
    {
      "cell_type": "code",
      "execution_count": 1,
      "metadata": {
        "autoscroll": "auto"
      },
      "outputs": [],
      "source": "%hive\nDROP TABLE IF EXISTS wdi_gs"
    },
    {
      "cell_type": "code",
      "execution_count": 2,
      "metadata": {
        "autoscroll": "auto"
      },
      "outputs": [],
      "source": "%hive\nCREATE EXTERNAL TABLE wdi_gs\n(year INTEGER, countryName STRING, countryCode STRING, indicatorName STRING, \n    indicatorCode STRING, indicatorValue FLOAT)\nROW FORMAT DELIMITED FIELDS TERMINATED BY \u0027,\u0027 LINES TERMINATED BY \u0027\\n\u0027\nLOCATION \u0027gs://jarvis_data_eng_tarek/datasets/wdi_2016\u0027\nTBLPROPERTIES (\"skip.header.count\"\u003d\"1\")"
    },
    {
      "cell_type": "code",
      "execution_count": 3,
      "metadata": {
        "autoscroll": "auto"
      },
      "outputs": [],
      "source": "%hive\nDESCRIBE FORMATTED wdi_gs"
    },
    {
      "cell_type": "code",
      "execution_count": 4,
      "metadata": {
        "autoscroll": "auto"
      },
      "outputs": [],
      "source": "%hive\nSELECT COUNT(countryName) AS countRows \nFROM wdi_gs"
    },
    {
      "cell_type": "markdown",
      "metadata": {},
      "source": "# Load GS Data to HDFS\n### Create `wdi_csv_text` table"
    },
    {
      "cell_type": "code",
      "execution_count": 6,
      "metadata": {
        "autoscroll": "auto"
      },
      "outputs": [],
      "source": "%hive\nDROP TABLE IF EXISTS wdi_csv_text;"
    },
    {
      "cell_type": "code",
      "execution_count": 7,
      "metadata": {
        "autoscroll": "auto"
      },
      "outputs": [],
      "source": "%hive\nCREATE EXTERNAL TABLE wdi_csv_text\n(year INTEGER, countryName STRING, countryCode STRING, indicatorName STRING, indicatorCode STRING, indicatorValue FLOAT)\nROW FORMAT DELIMITED FIELDS TERMINATED BY \u0027,\u0027 LINES TERMINATED BY \u0027\\n\u0027\nLOCATION \u0027hdfs:///user/ewang/hive/wdi/wdi_csv_text\u0027"
    },
    {
      "cell_type": "markdown",
      "metadata": {},
      "source": "### Load data from `wdi_gs` table to `wdi_csv_text` table"
    },
    {
      "cell_type": "code",
      "execution_count": 9,
      "metadata": {
        "autoscroll": "auto"
      },
      "outputs": [],
      "source": "%hive\nINSERT OVERWRITE TABLE wdi_csv_text\nSELECT *\nFROM wdi_gs"
    },
    {
      "cell_type": "markdown",
      "metadata": {},
      "source": "### Check HDFS file size for `wdi_csv_text` file "
    },
    {
      "cell_type": "code",
      "execution_count": 11,
      "metadata": {
        "autoscroll": "auto"
      },
      "outputs": [],
      "source": "%sh\nhdfs dfs -du -s -h /user/tarek/hive/wdi/wdi_csv_text"
    },
    {
      "cell_type": "markdown",
      "metadata": {},
      "source": "### Counting total number of rows of the table\n"
    },
    {
      "cell_type": "code",
      "execution_count": 13,
      "metadata": {
        "autoscroll": "auto"
      },
      "outputs": [],
      "source": "%hive\nSELECT count(countryName) \nFROM wdi_csv_text"
    },
    {
      "cell_type": "markdown",
      "metadata": {},
      "source": "- If you excute the count query again, you would notice that it took less excution time because the file system cache holds data that was recently read from the disk, making it possible for subsequent requests to obtain data from cache rather than having to read it again from the disk"
    },
    {
      "cell_type": "markdown",
      "metadata": {},
      "source": "### Clear the filesystem cache and count the number of rows"
    },
    {
      "cell_type": "code",
      "execution_count": 16,
      "metadata": {
        "autoscroll": "auto"
      },
      "outputs": [],
      "source": "%sh\necho 3 | sudo tee /proc/sys/vm/drop_caches"
    },
    {
      "cell_type": "code",
      "execution_count": 17,
      "metadata": {
        "autoscroll": "auto"
      },
      "outputs": [],
      "source": "%hive\nSELECT count(countryName) \nFROM wdi_csv_text"
    },
    {
      "cell_type": "markdown",
      "metadata": {},
      "source": "- It took less excution time after clearing the filesystem cache which makes sense since the cache has only the data we won\u0027t which makes the searching process faster.  "
    },
    {
      "cell_type": "markdown",
      "metadata": {},
      "source": "# Hive vs Bash\n### Copy `wdi_csv_text` HDFS file to the master node and write a command that counts number of rows"
    },
    {
      "cell_type": "code",
      "execution_count": 20,
      "metadata": {
        "autoscroll": "auto"
      },
      "outputs": [],
      "source": "%sh\n\n#SSH to master node\ncd ~\nhdfs  dfs -get  hdfs:///user/ewang/hive/wdi/wdi_csv_text .\ncd wdi_csv_text\n#calculate current directory size\ndu -ch .\n#1.8G\ttotal\n\n#clear fs cache\necho 3 | sudo tee /proc/sys/vm/drop_caches\n#bash row count\ndate +%s \u0026\u0026 cat * | wc \u0026\u0026 date +%s\n"
    },
    {
      "cell_type": "markdown",
      "metadata": {},
      "source": " \n- Bash needed less time than Hive to excute the query.\n"
    },
    {
      "cell_type": "markdown",
      "metadata": {},
      "source": "# Parsing issue"
    },
    {
      "cell_type": "code",
      "execution_count": 23,
      "metadata": {
        "autoscroll": "auto"
      },
      "outputs": [],
      "source": "%hive\nSELECT distinct(indicatorCode)\nFROM wdi_csv_text\nORDER BY indicatorCode\nLIMIT 20;"
    },
    {
      "cell_type": "markdown",
      "metadata": {},
      "source": "### Creating a debug table to identify issue"
    },
    {
      "cell_type": "code",
      "execution_count": 25,
      "metadata": {
        "autoscroll": "auto"
      },
      "outputs": [],
      "source": "%hive\nDROP TABLE IF EXISTS wdi_gs_debug\n"
    },
    {
      "cell_type": "code",
      "execution_count": 26,
      "metadata": {
        "autoscroll": "auto"
      },
      "outputs": [],
      "source": "%hive\nCREATE EXTERNAL TABLE wdi_gs_debug\n(text STRING)\nLOCATION \u0027gs://jarvis_data_eng_tarek/datasets/wdi_2016\u0027\nTBLPROPERTIES (\"skip.header.line.count\"\u003d\"1\")"
    },
    {
      "cell_type": "code",
      "execution_count": 27,
      "metadata": {
        "autoscroll": "auto"
      },
      "outputs": [],
      "source": "%hive\nSELECT text \nFROM wdi_gs_debug\nWHERE text like \"%\\(\\% of urban population\\)\\\"%\""
    },
    {
      "cell_type": "markdown",
      "metadata": {},
      "source": " - We can see from the previous queries that we have a parsing issue. It happened because we are seperating fields by comma, when we created our table. Some quoted values have commas inside of them and they are getting seperated. To overcome this problem, we can use SerDe format as we will see bellow"
    },
    {
      "cell_type": "markdown",
      "metadata": {},
      "source": "### Create `wdi_opencsv_gs` table with OpenCSV SerDe"
    },
    {
      "cell_type": "code",
      "execution_count": 30,
      "metadata": {
        "autoscroll": "auto"
      },
      "outputs": [],
      "source": "%hive\nDROP TABLE IF EXISTS wdi_opencsv_gs"
    },
    {
      "cell_type": "code",
      "execution_count": 31,
      "metadata": {
        "autoscroll": "auto"
      },
      "outputs": [],
      "source": "%hive\nCREATE EXTERNAL TABLE wdi_opencsv_gs\n(year INTEGER, countryName STRING, countryCode STRING, indicatorName STRING, \n    indicatorCode STRING, indicatorValue FLOAT)\nROW FORMAT SERDE \u0027org.apache.hadoop.hive.serde2.OpenCSVSerde\u0027\nLOCATION \u0027gs://jarvis_data_eng_tarek/datasets/wdi_2016\u0027\nTBLPROPERTIES (\"skip.header.line.count\"\u003d\"1\")"
    },
    {
      "cell_type": "markdown",
      "metadata": {},
      "source": "### Create `wdi_opencsv_text` destination table\n"
    },
    {
      "cell_type": "code",
      "execution_count": 33,
      "metadata": {
        "autoscroll": "auto"
      },
      "outputs": [],
      "source": "%hive\nDROP TABLE IF EXISTS wdi_opencsv_text\n"
    },
    {
      "cell_type": "code",
      "execution_count": 34,
      "metadata": {
        "autoscroll": "auto"
      },
      "outputs": [],
      "source": "%hive\nCREATE EXTERNAL TABLE wdi_opencsv_text\n(year INTEGER, countryName STRING, countryCode STRING, indicatorName STRING, \n    indicatorCode STRING, indicatorValue FLOAT)\nROW FORMAT SERDE \u0027org.apache.hadoop.hive.serde2.OpenCSVSerde\u0027\nLOCATION \u0027hdfs:///user/tarek/hive/wdi/wdi_opencsv_text\u0027"
    },
    {
      "cell_type": "markdown",
      "metadata": {},
      "source": "### Load data from `wdi_opencsv_gs` table to `wdi_opencsv_text` table"
    },
    {
      "cell_type": "code",
      "execution_count": 36,
      "metadata": {
        "autoscroll": "auto"
      },
      "outputs": [],
      "source": "%hive\nINSERT OVERWRITE TABLE wdi_opencsv_text\nSELECT * \nFROM wdi_opencsv_gs"
    },
    {
      "cell_type": "code",
      "execution_count": 37,
      "metadata": {
        "autoscroll": "auto"
      },
      "outputs": [],
      "source": "%hive\nSELECT distinct(indicatorcode)\nFROM wdi_opencsv_text\nLIMIT 20"
    },
    {
      "cell_type": "markdown",
      "metadata": {},
      "source": "- It solved the parsing issue but it\u0027s taking more time to excute.\n"
    },
    {
      "cell_type": "markdown",
      "metadata": {},
      "source": "### Compare execution time between `wdi_csv_text` and `wdi_opencsv_text`"
    },
    {
      "cell_type": "code",
      "execution_count": 40,
      "metadata": {
        "autoscroll": "auto"
      },
      "outputs": [],
      "source": "%hive\nSELECT count(countryName) \nFROM wdi_csv_text"
    },
    {
      "cell_type": "code",
      "execution_count": 41,
      "metadata": {
        "autoscroll": "auto"
      },
      "outputs": [],
      "source": "%hive\nSELECT count(countryName) \nFROM wdi_opencsv_text"
    },
    {
      "cell_type": "markdown",
      "metadata": {},
      "source": "- It took 31 seconds to excute the query in wdi_csv_text table, while it took 1 minutes and 36 seconds in wdi_opencsv_text table. wdi_csv_text uses LazySimpleSerDe which is faster than OpenCSVSerde (wdi_opencsv_text). LazySimpleSerDe does not work well when the data does not have values enclosed in quotes (As we saw before), OpenCSVSerde does extra work in fix the parsing issue that we had, which means more excuting time needed"
    },
    {
      "cell_type": "markdown",
      "metadata": {},
      "source": "# OpenCSVSerde limitaion\n- This SerDe treats all columns to be of type String. Even if you create a table with non-string column types using this SerDe, the DESCRIBE TABLE output would show string column type. The type information is retrieved from the SerDe. To convert columns to the desired type in a table, you can create a view over the table"
    },
    {
      "cell_type": "code",
      "execution_count": 44,
      "metadata": {
        "autoscroll": "auto"
      },
      "outputs": [],
      "source": "%hive\nDESCRIBE FORMATTED wdi_opencsv_text\n"
    },
    {
      "cell_type": "code",
      "execution_count": 45,
      "metadata": {
        "autoscroll": "auto"
      },
      "outputs": [],
      "source": "%hive\nDESCRIBE FORMATTED wdi_csv_text"
    },
    {
      "cell_type": "markdown",
      "metadata": {},
      "source": "### Create a view on top of `wdi_opencsv_text`\n"
    },
    {
      "cell_type": "code",
      "execution_count": 47,
      "metadata": {
        "autoscroll": "auto"
      },
      "outputs": [],
      "source": "%hive\nDROP VIEW IF EXISTS wdi_opencsv_text_view"
    },
    {
      "cell_type": "code",
      "execution_count": 48,
      "metadata": {
        "autoscroll": "auto"
      },
      "outputs": [],
      "source": "%hive\nCREATE VIEW IF NOT EXISTS wdi_opencsv_text_view\nAS\nSELECT CAST (year AS INTEGER), countryName, countryCode, indicatorName, indicatorCode, \n    CAST(indicatorValue AS FLOAT)\nFROM wdi_opencsv_text"
    },
    {
      "cell_type": "code",
      "execution_count": 49,
      "metadata": {
        "autoscroll": "auto"
      },
      "outputs": [],
      "source": "%hive\nDESCRIBE FORMATTED wdi_opencsv_text_view"
    },
    {
      "cell_type": "markdown",
      "metadata": {},
      "source": "# 2015 Canada GDP Growth HQL"
    },
    {
      "cell_type": "markdown",
      "metadata": {},
      "source": "### Finding the correct indicator name/code"
    },
    {
      "cell_type": "code",
      "execution_count": 52,
      "metadata": {
        "autoscroll": "auto"
      },
      "outputs": [],
      "source": "%hive\nSELECT countryName, indicatorCode\nFROM wdi_opencsv_text_view\nWHERE year\u003d2015 AND countryName\u003d\u0027Canada\u0027 AND indicatorName LIKE \"%GDP growth (annual %)%\" \n"
    },
    {
      "cell_type": "markdown",
      "metadata": {},
      "source": "### Finding 2015 Canada `GDP growth` based on NY.GDP.MKTP.KD.ZG\n"
    },
    {
      "cell_type": "code",
      "execution_count": 54,
      "metadata": {
        "autoscroll": "auto"
      },
      "outputs": [],
      "source": "%hive\nSELECT indicatorValue AS GDP_growth_value, year, countryName \nFROM wdi_opencsv_text_view\nWHERE year\u003d2015 AND countryName\u003d\u0027Canada\u0027 AND indicatorCode\u003d\u0027NY.GDP.MKTP.KD.ZG\u0027"
    },
    {
      "cell_type": "markdown",
      "metadata": {},
      "source": "- It takes around 1 minutes and 41 seconds to excute the query. That\u0027s because it needs to search over the whole data, which means it has a linear time (`O(N)`).\n- We can use Columnar File, Partitions or buckets in order to optimize the excution time by searching over part of the data.\n"
    },
    {
      "cell_type": "markdown",
      "metadata": {},
      "source": "# Partition optimization"
    },
    {
      "cell_type": "code",
      "execution_count": 57,
      "metadata": {
        "autoscroll": "auto"
      },
      "outputs": [],
      "source": "%hive\nDROP TABLE IF EXISTS wdi_opencsv_text_partitions;"
    },
    {
      "cell_type": "code",
      "execution_count": 58,
      "metadata": {
        "autoscroll": "auto"
      },
      "outputs": [],
      "source": "%hive\nCREATE EXTERNAL TABLE wdi_opencsv_text_partitions\n(countryName STRING, countryCode STRING, indicatorName STRING, \n    indicatorCode STRING, indicatorValue FLOAT)\nPARTITIONED BY (year INTEGER)\nROW FORMAT SERDE \u0027org.apache.hadoop.hive.serde2.OpenCSVSerde\u0027\nLOCATION \u0027hdfs:///user/tarek/hive/wdi/wdi_opencsv_text_partitions\u0027"
    },
    {
      "cell_type": "markdown",
      "metadata": {},
      "source": "### Load data from `wdi_opencsv_text` to `wdi_opencsv_text_partitions`"
    },
    {
      "cell_type": "code",
      "execution_count": 60,
      "metadata": {
        "autoscroll": "auto"
      },
      "outputs": [],
      "source": "%hive\nset hive.exec.dynamic.partition.mode\u003dnonstrict;\nFROM wdi_opencsv_text\nINSERT OVERWRITE TABLE wdi_opencsv_text_partitions \nPARTITION(year)\nSELECT countryName, countryCode, indicatorName, indicatorCode, indicatorValue, year"
    },
    {
      "cell_type": "markdown",
      "metadata": {},
      "source": "### Inspect how many partitions have been created for `wdi_opencsv_text_partitions` table"
    },
    {
      "cell_type": "code",
      "execution_count": 62,
      "metadata": {
        "autoscroll": "auto"
      },
      "outputs": [],
      "source": "%sh\nhdfs dfs -ls /user/tarek/hive/wdi/wdi_opencsv_text_partitions\n"
    },
    {
      "cell_type": "markdown",
      "metadata": {},
      "source": "### Re-run 2015 GDP Growth HQL against the `wdi_opencsv_text_partitions` table "
    },
    {
      "cell_type": "code",
      "execution_count": 64,
      "metadata": {
        "autoscroll": "auto"
      },
      "outputs": [],
      "source": "%hive\nSELECT indicatorValue AS GDP_growth_value, year, countryName \nFROM wdi_opencsv_text_partitions\nWHERE year\u003d2015 AND countryName\u003d\u0027Canada\u0027 AND indicatorCode\u003d\u0027NY.GDP.MKTP.KD.ZG\u0027\n"
    },
    {
      "cell_type": "markdown",
      "metadata": {},
      "source": "- We managed to reduce the excution time of the query from 1 minutes and 41 seconds to 24 seconds by using partitions. We got a partition for each year (total 57 partitions) which speeds up the excution time since we are scanning the partition of year 2015 only.\n"
    },
    {
      "cell_type": "markdown",
      "metadata": {},
      "source": "# Columnar File Optimization\n"
    },
    {
      "cell_type": "code",
      "execution_count": 67,
      "metadata": {
        "autoscroll": "auto"
      },
      "outputs": [],
      "source": "%hive\nDROP TABLE IF EXISTS wdi_csv_parquet\n"
    },
    {
      "cell_type": "code",
      "execution_count": 68,
      "metadata": {
        "autoscroll": "auto"
      },
      "outputs": [],
      "source": "%hive\nCREATE EXTERNAL TABLE IF NOT EXISTS wdi_csv_parquet\n(year INTEGER, countryName STRING, countryCode STRING, indicatorName STRING, \n    indicatorCode STRING, indicatorValue FLOAT)\nSTORED AS PARQUET\nLOCATION \u0027hdfs:///user/tarek/hive/wdi/wdi_csv_parquet\u0027"
    },
    {
      "cell_type": "markdown",
      "metadata": {},
      "source": "### Load data from `wdi_opencsv_gs` to `wdi_csv_parquet`"
    },
    {
      "cell_type": "code",
      "execution_count": 70,
      "metadata": {
        "autoscroll": "auto"
      },
      "outputs": [],
      "source": "%hive\nINSERT OVERWRITE TABLE wdi_csv_parquet\nSELECT * \nFROM wdi_opencsv_gs "
    },
    {
      "cell_type": "markdown",
      "metadata": {},
      "source": "### Compare file sizes between `wdi_csv_parquet` and `wdi_opencsv_text`"
    },
    {
      "cell_type": "code",
      "execution_count": 72,
      "metadata": {
        "autoscroll": "auto"
      },
      "outputs": [],
      "source": "%sh\nhdfs dfs -du -s -h /user/tarek/hive/wdi/wdi_opencsv_text\n"
    },
    {
      "cell_type": "code",
      "execution_count": 73,
      "metadata": {
        "autoscroll": "auto"
      },
      "outputs": [],
      "source": "%sh\nhdfs dfs -du -s -h /user/tarek/hive/wdi/wdi_csv_parquet"
    },
    {
      "cell_type": "markdown",
      "metadata": {},
      "source": "- The file size of wdi_csv_parquet (137.2 MB) is significantly smaller than wdi_opencsv_text (2.3 GB)\n"
    },
    {
      "cell_type": "markdown",
      "metadata": {},
      "source": "### Compare runtime"
    },
    {
      "cell_type": "code",
      "execution_count": 76,
      "metadata": {
        "autoscroll": "auto"
      },
      "outputs": [],
      "source": "%hive\nSELECT count(countryName) FROM wdi_opencsv_text"
    },
    {
      "cell_type": "code",
      "execution_count": 77,
      "metadata": {
        "autoscroll": "auto"
      },
      "outputs": [],
      "source": "%hive\nSELECT count(countryName) FROM wdi_csv_parquet"
    },
    {
      "cell_type": "markdown",
      "metadata": {},
      "source": "- The runtime to excute the query in wdi_opencsv_text table is 1 minutes and 37 seconds, while it took 29 seconds to run the same query in wdi_csv_parquet table\n"
    },
    {
      "cell_type": "markdown",
      "metadata": {},
      "source": "### Execute `2015 GDP Growth` HQL against `wdi_csv_parquet` and `wdi_opencsv_text` tables"
    },
    {
      "cell_type": "code",
      "execution_count": 80,
      "metadata": {
        "autoscroll": "auto"
      },
      "outputs": [],
      "source": "%hive\nSELECT indicatorValue AS GDP_growth_value, year, countryName \nFROM wdi_opencsv_text\nWHERE year\u003d2015 AND countryName\u003d\u0027Canada\u0027 AND indicatorCode\u003d\u0027NY.GDP.MKTP.KD.ZG\u0027"
    },
    {
      "cell_type": "code",
      "execution_count": 81,
      "metadata": {
        "autoscroll": "auto"
      },
      "outputs": [],
      "source": "%hive\nSELECT indicatorValue AS GDP_growth_value, year, countryName \nFROM wdi_csv_parquet\nWHERE year\u003d2015 AND countryName\u003d\u0027Canada\u0027 AND indicatorCode\u003d\u0027NY.GDP.MKTP.KD.ZG\u0027"
    },
    {
      "cell_type": "markdown",
      "metadata": {},
      "source": "- The performance improved by using Columnar File Optimization since it took 31 seconds to excute the query in wdi_csv_parquet."
    },
    {
      "cell_type": "markdown",
      "metadata": {},
      "source": "# Highest GDP Growth\n### Find the highest `GDP growth` (NY.GDP.MKTP.KD.ZG) year for each country."
    },
    {
      "cell_type": "code",
      "execution_count": 84,
      "metadata": {
        "autoscroll": "auto"
      },
      "outputs": [],
      "source": "%hive\nSELECT MAX(indicatorValue) AS GDP_growth_value, year, countryName \nFROM wdi_csv_parquet\nWHERE indicatorCode\u003d\u0027NY.GDP.MKTP.KD.ZG\u0027 AND indicatorName LIKE \"%GDP growth (annual %)%\"\nGROUP BY countryName,year\nORDER BY GDP_growth_value DESC\n\n\n"
    },
    {
      "cell_type": "markdown",
      "metadata": {},
      "source": "### Execute the same query using SparkSQL"
    },
    {
      "cell_type": "code",
      "execution_count": 86,
      "metadata": {
        "autoscroll": "auto"
      },
      "outputs": [],
      "source": "%spark.sql\nSELECT MAX(indicatorValue) AS GDP_growth_value, year, countryName \nFROM wdi_csv_parquet\nWHERE indicatorCode\u003d\u0027NY.GDP.MKTP.KD.ZG\u0027 AND indicatorName LIKE \"%GDP growth (annual %)%\"\nGROUP BY countryName,year\nORDER BY GDP_growth_value DESC"
    },
    {
      "cell_type": "markdown",
      "metadata": {},
      "source": "- The execution time with the Hive Tez query is much faster than Spark interpreter, which it took 33 seconds to run the query with Hive Tez and 4 minutes and 49 seconds to run the same query with Spark\n"
    },
    {
      "cell_type": "markdown",
      "metadata": {},
      "source": "# Sort GDP by country and year\n### Write a query that returns `GDP Growth` for all coutries"
    },
    {
      "cell_type": "code",
      "execution_count": 89,
      "metadata": {
        "autoscroll": "auto"
      },
      "outputs": [],
      "source": "%hive\nSELECT countryName, year, indicatorCode, indicatorValue AS GDP_growth_value\nFROM wdi_csv_parquet\nWHERE indicatorCode\u003d\u0027NY.GDP.MKTP.KD.ZG\u0027\nSORT BY countryName, year\n"
    }
  ]
}